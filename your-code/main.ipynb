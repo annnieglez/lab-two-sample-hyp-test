{
 "cells": [
  {
   "cell_type": "markdown",
   "metadata": {},
   "source": [
    "# Before your start:\n",
    "- Read the README.md file\n",
    "- Comment as much as you can and use the resources (README.md file)\n",
    "- Happy learning!\n",
    "\n",
    "- **Consider a significance level of 5% for all tests.**"
   ]
  },
  {
   "cell_type": "code",
   "execution_count": 1,
   "metadata": {},
   "outputs": [],
   "source": [
    "# import numpy and pandas\n",
    "import scipy.stats as std\n",
    "import numpy as np\n",
    "import pandas as pd\n",
    "import data_check as ch\n"
   ]
  },
  {
   "cell_type": "markdown",
   "metadata": {},
   "source": [
    "# Challenge 1 - Independent Sample T-tests\n",
    "\n",
    "In this challenge, we will be using the Pokemon dataset. Before applying statistical methods to this data, let's first examine the data.\n",
    "\n",
    "To load the data, run the code below."
   ]
  },
  {
   "cell_type": "code",
   "execution_count": 2,
   "metadata": {},
   "outputs": [],
   "source": [
    "# Run this code:\n",
    "pokemon = pd.read_csv('../pokemon.csv')"
   ]
  },
  {
   "cell_type": "markdown",
   "metadata": {},
   "source": [
    "Let's start off by looking at the `head` function in the cell below."
   ]
  },
  {
   "cell_type": "code",
   "execution_count": 3,
   "metadata": {},
   "outputs": [
    {
     "data": {
      "text/html": [
       "<div>\n",
       "<style scoped>\n",
       "    .dataframe tbody tr th:only-of-type {\n",
       "        vertical-align: middle;\n",
       "    }\n",
       "\n",
       "    .dataframe tbody tr th {\n",
       "        vertical-align: top;\n",
       "    }\n",
       "\n",
       "    .dataframe thead th {\n",
       "        text-align: right;\n",
       "    }\n",
       "</style>\n",
       "<table border=\"1\" class=\"dataframe\">\n",
       "  <thead>\n",
       "    <tr style=\"text-align: right;\">\n",
       "      <th></th>\n",
       "      <th>#</th>\n",
       "      <th>Name</th>\n",
       "      <th>Type 1</th>\n",
       "      <th>Type 2</th>\n",
       "      <th>Total</th>\n",
       "      <th>HP</th>\n",
       "      <th>Attack</th>\n",
       "      <th>Defense</th>\n",
       "      <th>Sp. Atk</th>\n",
       "      <th>Sp. Def</th>\n",
       "      <th>Speed</th>\n",
       "      <th>Generation</th>\n",
       "      <th>Legendary</th>\n",
       "    </tr>\n",
       "  </thead>\n",
       "  <tbody>\n",
       "    <tr>\n",
       "      <th>0</th>\n",
       "      <td>1</td>\n",
       "      <td>Bulbasaur</td>\n",
       "      <td>Grass</td>\n",
       "      <td>Poison</td>\n",
       "      <td>318</td>\n",
       "      <td>45</td>\n",
       "      <td>49</td>\n",
       "      <td>49</td>\n",
       "      <td>65</td>\n",
       "      <td>65</td>\n",
       "      <td>45</td>\n",
       "      <td>1</td>\n",
       "      <td>False</td>\n",
       "    </tr>\n",
       "    <tr>\n",
       "      <th>1</th>\n",
       "      <td>2</td>\n",
       "      <td>Ivysaur</td>\n",
       "      <td>Grass</td>\n",
       "      <td>Poison</td>\n",
       "      <td>405</td>\n",
       "      <td>60</td>\n",
       "      <td>62</td>\n",
       "      <td>63</td>\n",
       "      <td>80</td>\n",
       "      <td>80</td>\n",
       "      <td>60</td>\n",
       "      <td>1</td>\n",
       "      <td>False</td>\n",
       "    </tr>\n",
       "    <tr>\n",
       "      <th>2</th>\n",
       "      <td>3</td>\n",
       "      <td>Venusaur</td>\n",
       "      <td>Grass</td>\n",
       "      <td>Poison</td>\n",
       "      <td>525</td>\n",
       "      <td>80</td>\n",
       "      <td>82</td>\n",
       "      <td>83</td>\n",
       "      <td>100</td>\n",
       "      <td>100</td>\n",
       "      <td>80</td>\n",
       "      <td>1</td>\n",
       "      <td>False</td>\n",
       "    </tr>\n",
       "    <tr>\n",
       "      <th>3</th>\n",
       "      <td>3</td>\n",
       "      <td>VenusaurMega Venusaur</td>\n",
       "      <td>Grass</td>\n",
       "      <td>Poison</td>\n",
       "      <td>625</td>\n",
       "      <td>80</td>\n",
       "      <td>100</td>\n",
       "      <td>123</td>\n",
       "      <td>122</td>\n",
       "      <td>120</td>\n",
       "      <td>80</td>\n",
       "      <td>1</td>\n",
       "      <td>False</td>\n",
       "    </tr>\n",
       "    <tr>\n",
       "      <th>4</th>\n",
       "      <td>4</td>\n",
       "      <td>Charmander</td>\n",
       "      <td>Fire</td>\n",
       "      <td>NaN</td>\n",
       "      <td>309</td>\n",
       "      <td>39</td>\n",
       "      <td>52</td>\n",
       "      <td>43</td>\n",
       "      <td>60</td>\n",
       "      <td>50</td>\n",
       "      <td>65</td>\n",
       "      <td>1</td>\n",
       "      <td>False</td>\n",
       "    </tr>\n",
       "  </tbody>\n",
       "</table>\n",
       "</div>"
      ],
      "text/plain": [
       "   #                   Name Type 1  Type 2  Total  HP  Attack  Defense  \\\n",
       "0  1              Bulbasaur  Grass  Poison    318  45      49       49   \n",
       "1  2                Ivysaur  Grass  Poison    405  60      62       63   \n",
       "2  3               Venusaur  Grass  Poison    525  80      82       83   \n",
       "3  3  VenusaurMega Venusaur  Grass  Poison    625  80     100      123   \n",
       "4  4             Charmander   Fire     NaN    309  39      52       43   \n",
       "\n",
       "   Sp. Atk  Sp. Def  Speed  Generation  Legendary  \n",
       "0       65       65     45           1      False  \n",
       "1       80       80     60           1      False  \n",
       "2      100      100     80           1      False  \n",
       "3      122      120     80           1      False  \n",
       "4       60       50     65           1      False  "
      ]
     },
     "execution_count": 3,
     "metadata": {},
     "output_type": "execute_result"
    }
   ],
   "source": [
    "# Your code here:\n",
    "pokemon.head()"
   ]
  },
  {
   "cell_type": "code",
   "execution_count": 4,
   "metadata": {},
   "outputs": [
    {
     "name": "stdout",
     "output_type": "stream",
     "text": [
      "Number of columns: 13 and rows: 800\n",
      "\n",
      "Data types:\n",
      "#              int64\n",
      "Name          object\n",
      "Type 1        object\n",
      "Type 2        object\n",
      "Total          int64\n",
      "HP             int64\n",
      "Attack         int64\n",
      "Defense        int64\n",
      "Sp. Atk        int64\n",
      "Sp. Def        int64\n",
      "Speed          int64\n",
      "Generation     int64\n",
      "Legendary       bool\n",
      "dtype: object\n",
      "\n",
      "Unique values count:\n",
      "#             721\n",
      "Name          800\n",
      "Type 1         18\n",
      "Type 2         18\n",
      "Total         200\n",
      "HP             94\n",
      "Attack        111\n",
      "Defense       103\n",
      "Sp. Atk       105\n",
      "Sp. Def        92\n",
      "Speed         108\n",
      "Generation      6\n",
      "Legendary       2\n",
      "dtype: int64\n",
      "\n",
      "These columns appear to be categorical (less than 20 unique values):\n",
      "Index(['Type 1', 'Type 2', 'Generation', 'Legendary'], dtype='object')\n",
      "\n",
      "Unique value count for categorical columns:\n",
      "\n",
      "Type 1:\n",
      "Type 1\n",
      "Water       112\n",
      "Normal       98\n",
      "Grass        70\n",
      "Bug          69\n",
      "Psychic      57\n",
      "Fire         52\n",
      "Rock         44\n",
      "Electric     44\n",
      "Ground       32\n",
      "Ghost        32\n",
      "Dragon       32\n",
      "Dark         31\n",
      "Poison       28\n",
      "Fighting     27\n",
      "Steel        27\n",
      "Ice          24\n",
      "Fairy        17\n",
      "Flying        4\n",
      "Name: count, dtype: int64\n",
      "\n",
      "Type 2:\n",
      "Type 2\n",
      "Flying      97\n",
      "Ground      35\n",
      "Poison      34\n",
      "Psychic     33\n",
      "Fighting    26\n",
      "Grass       25\n",
      "Fairy       23\n",
      "Steel       22\n",
      "Dark        20\n",
      "Dragon      18\n",
      "Ice         14\n",
      "Rock        14\n",
      "Water       14\n",
      "Ghost       14\n",
      "Fire        12\n",
      "Electric     6\n",
      "Normal       4\n",
      "Bug          3\n",
      "Name: count, dtype: int64\n",
      "\n",
      "Generation:\n",
      "Generation\n",
      "1    166\n",
      "5    165\n",
      "3    160\n",
      "4    121\n",
      "2    106\n",
      "6     82\n",
      "Name: count, dtype: int64\n",
      "\n",
      "Legendary:\n",
      "Legendary\n",
      "False    735\n",
      "True      65\n",
      "Name: count, dtype: int64\n",
      "\n",
      "Count of null values:\n",
      "#               0\n",
      "Name            0\n",
      "Type 1          0\n",
      "Type 2        386\n",
      "Total           0\n",
      "HP              0\n",
      "Attack          0\n",
      "Defense         0\n",
      "Sp. Atk         0\n",
      "Sp. Def         0\n",
      "Speed           0\n",
      "Generation      0\n",
      "Legendary       0\n",
      "dtype: int64\n",
      "\n",
      "Count of duplicated values:\n",
      "0\n"
     ]
    }
   ],
   "source": [
    "ch.check(pokemon)"
   ]
  },
  {
   "cell_type": "markdown",
   "metadata": {},
   "source": [
    "The first thing we would like to do is compare the legendary Pokemon to the regular Pokemon. To do this, we should examine the data further. What is the count of legendary vs. non legendary Pokemons?"
   ]
  },
  {
   "cell_type": "code",
   "execution_count": 5,
   "metadata": {},
   "outputs": [
    {
     "data": {
      "text/plain": [
       "Legendary\n",
       "False    735\n",
       "True      65\n",
       "Name: count, dtype: int64"
      ]
     },
     "execution_count": 5,
     "metadata": {},
     "output_type": "execute_result"
    }
   ],
   "source": [
    "# Your code here:\n",
    "legendary_counts = pokemon[\"Legendary\"].value_counts()\n",
    "legendary_counts\n"
   ]
  },
  {
   "cell_type": "markdown",
   "metadata": {},
   "source": [
    "Compute the mean and standard deviation of the total points for both legendary and non-legendary Pokemon."
   ]
  },
  {
   "cell_type": "code",
   "execution_count": 6,
   "metadata": {},
   "outputs": [
    {
     "data": {
      "text/html": [
       "<div>\n",
       "<style scoped>\n",
       "    .dataframe tbody tr th:only-of-type {\n",
       "        vertical-align: middle;\n",
       "    }\n",
       "\n",
       "    .dataframe tbody tr th {\n",
       "        vertical-align: top;\n",
       "    }\n",
       "\n",
       "    .dataframe thead th {\n",
       "        text-align: right;\n",
       "    }\n",
       "</style>\n",
       "<table border=\"1\" class=\"dataframe\">\n",
       "  <thead>\n",
       "    <tr style=\"text-align: right;\">\n",
       "      <th></th>\n",
       "      <th>mean</th>\n",
       "      <th>std</th>\n",
       "    </tr>\n",
       "    <tr>\n",
       "      <th>Legendary</th>\n",
       "      <th></th>\n",
       "      <th></th>\n",
       "    </tr>\n",
       "  </thead>\n",
       "  <tbody>\n",
       "    <tr>\n",
       "      <th>False</th>\n",
       "      <td>417.213605</td>\n",
       "      <td>106.760417</td>\n",
       "    </tr>\n",
       "    <tr>\n",
       "      <th>True</th>\n",
       "      <td>637.384615</td>\n",
       "      <td>60.937389</td>\n",
       "    </tr>\n",
       "  </tbody>\n",
       "</table>\n",
       "</div>"
      ],
      "text/plain": [
       "                 mean         std\n",
       "Legendary                        \n",
       "False      417.213605  106.760417\n",
       "True       637.384615   60.937389"
      ]
     },
     "execution_count": 6,
     "metadata": {},
     "output_type": "execute_result"
    }
   ],
   "source": [
    "# Your code here:\n",
    "legendary_stats = pokemon.groupby(\"Legendary\")[\"Total\"].agg([\"mean\", \"std\"])\n",
    "legendary_stats\n",
    "\n"
   ]
  },
  {
   "cell_type": "markdown",
   "metadata": {},
   "source": [
    "The computation of the mean might give us a clue regarding how the statistical test may turn out; However, it certainly does not prove whether there is a significant difference between the two groups.\n",
    "\n",
    "In the cell below, use the `ttest_ind` function in `scipy.stats` to compare the the total points for legendary and non-legendary Pokemon. Since we do not have any information about the population, assume the variances are not equal."
   ]
  },
  {
   "cell_type": "code",
   "execution_count": 7,
   "metadata": {},
   "outputs": [
    {
     "name": "stdout",
     "output_type": "stream",
     "text": [
      "Null Hypothesis (H₀): There is no significant difference between the means of the two groups\n",
      "Alternate Hypothesis (H₁): There means of points between the two groups is not equal\n",
      "Test Statistic (t): 25.83\n",
      "P-Value: 0.000000000000000000000000000000000000000000000093579543359574\n",
      "\n"
     ]
    }
   ],
   "source": [
    "# Your code here:\n",
    "\n",
    "# Hypotheses\n",
    "null_hypothesis = \"There is no significant difference between the means of the two groups\"  # H₀\n",
    "alt_hypothesis = \"There means of points between the two groups is not equal\"  # H₁\n",
    "\n",
    "print(f\"Null Hypothesis (H₀): {null_hypothesis}\")\n",
    "print(f\"Alternate Hypothesis (H₁): {alt_hypothesis}\")\n",
    "\n",
    "legendary_t = pokemon[pokemon[\"Legendary\"] == True][\"Total\"]\n",
    "legendary_f = pokemon[pokemon[\"Legendary\"] == False][\"Total\"]\n",
    "\n",
    "# Two-sample t-test for independent samples\n",
    "t_stat, p_value = std.ttest_ind(legendary_t, legendary_f, equal_var=False)\n",
    "print(f\"Test Statistic (t): {t_stat:.2f}\")\n",
    "print(f\"P-Value: {p_value:.60f}\")\n",
    "print()\n"
   ]
  },
  {
   "cell_type": "markdown",
   "metadata": {},
   "source": [
    "What do you conclude from this test? Write your conclusions below."
   ]
  },
  {
   "cell_type": "code",
   "execution_count": 8,
   "metadata": {},
   "outputs": [
    {
     "name": "stdout",
     "output_type": "stream",
     "text": [
      "Reject the Null Hypothesis: There is sufficient evidence to conclude that the mean fares are different for legendary and non-legendary Pokemons.\n"
     ]
    }
   ],
   "source": [
    "# Your conclusions here:\n",
    "\n",
    "# Significance level\n",
    "alpha = 0.05\n",
    "\n",
    "# Decision-Making\n",
    "if p_value > alpha:\n",
    "    print(\"Fail to Reject the Null Hypothesis: The mean points for legendary and non-legendary Pokemons are not significantly different.\")\n",
    "else:\n",
    "    print(\"Reject the Null Hypothesis: There is sufficient evidence to conclude that the mean fares are different for legendary and non-legendary Pokemons.\")\n"
   ]
  },
  {
   "cell_type": "markdown",
   "metadata": {},
   "source": [
    "How about we try to compare the different types of pokemon? In the cell below, list the types of Pokemon from column `Type 1` and the count of each type."
   ]
  },
  {
   "cell_type": "code",
   "execution_count": 9,
   "metadata": {},
   "outputs": [
    {
     "data": {
      "text/plain": [
       "Type 1\n",
       "Water       112\n",
       "Normal       98\n",
       "Grass        70\n",
       "Bug          69\n",
       "Psychic      57\n",
       "Fire         52\n",
       "Rock         44\n",
       "Electric     44\n",
       "Ground       32\n",
       "Ghost        32\n",
       "Dragon       32\n",
       "Dark         31\n",
       "Poison       28\n",
       "Fighting     27\n",
       "Steel        27\n",
       "Ice          24\n",
       "Fairy        17\n",
       "Flying        4\n",
       "Name: count, dtype: int64"
      ]
     },
     "execution_count": 9,
     "metadata": {},
     "output_type": "execute_result"
    }
   ],
   "source": [
    "# Your code here:\n",
    "\n",
    "type_counts = pokemon[\"Type 1\"].value_counts()\n",
    "type_counts"
   ]
  },
  {
   "cell_type": "markdown",
   "metadata": {},
   "source": [
    "Since water is the largest group of Pokemon, compare the mean and standard deviation of water Pokemon to all other Pokemon."
   ]
  },
  {
   "cell_type": "code",
   "execution_count": 10,
   "metadata": {},
   "outputs": [
    {
     "name": "stdout",
     "output_type": "stream",
     "text": [
      "Water Pokémon Mean: 430.46 and Std Dev: 113.19\n",
      "Non-Water Pokémon Mean: 435.86 and Std Dev: 121.09\n"
     ]
    }
   ],
   "source": [
    "# Your code here:\n",
    "\n",
    "water_pokemon = pokemon[pokemon[\"Type 1\"] == \"Water\"][\"Total\"]\n",
    "non_water_pokemon = pokemon[pokemon[\"Type 1\"] != \"Water\"][\"Total\"]\n",
    "\n",
    "water_mean = water_pokemon.mean()\n",
    "water_std = water_pokemon.std()\n",
    "\n",
    "non_water_mean = non_water_pokemon.mean()\n",
    "non_water_std = non_water_pokemon.std()\n",
    "\n",
    "print(f\"Water Pokémon Mean: {water_mean:.2f} and Std Dev: {water_std:.2f}\")\n",
    "print(f\"Non-Water Pokémon Mean: {non_water_mean:.2f} and Std Dev: {non_water_std:.2f}\")\n"
   ]
  },
  {
   "cell_type": "markdown",
   "metadata": {},
   "source": [
    "Perform a hypothesis test comparing the mean of total points for water Pokemon to all non-water Pokemon. Assume the variances are equal. "
   ]
  },
  {
   "cell_type": "code",
   "execution_count": 11,
   "metadata": {},
   "outputs": [
    {
     "name": "stdout",
     "output_type": "stream",
     "text": [
      "Null Hypothesis (H₀): There is no significant difference between the means of the two groups\n",
      "Alternate Hypothesis (H₁): There means of points between the two groups is not equal\n",
      "Test Statistic (t): -0.44\n",
      "P-Value: 0.66\n",
      "\n"
     ]
    }
   ],
   "source": [
    "# Your code here:\n",
    "\n",
    "# Hypotheses\n",
    "null_hypothesis = \"There is no significant difference between the means of the two groups\"  # H₀\n",
    "alt_hypothesis = \"There means of points between the two groups is not equal\"  # H₁\n",
    "\n",
    "print(f\"Null Hypothesis (H₀): {null_hypothesis}\")\n",
    "print(f\"Alternate Hypothesis (H₁): {alt_hypothesis}\")\n",
    "\n",
    "# Two-sample t-test for independent samples\n",
    "t_stat, p_value = std.ttest_ind(water_pokemon, non_water_pokemon, equal_var=True)\n",
    "print(f\"Test Statistic (t): {t_stat:.2f}\")\n",
    "print(f\"P-Value: {p_value:.2f}\")\n",
    "print()"
   ]
  },
  {
   "cell_type": "markdown",
   "metadata": {},
   "source": [
    "Write your conclusion below."
   ]
  },
  {
   "cell_type": "code",
   "execution_count": 12,
   "metadata": {},
   "outputs": [
    {
     "name": "stdout",
     "output_type": "stream",
     "text": [
      "Fail to Reject the Null Hypothesis: The mean points for water and non-water Pokemons are not significantly different.\n"
     ]
    }
   ],
   "source": [
    "# Your conclusions here:\n",
    "\n",
    "# Decision-Making\n",
    "if p_value > alpha:\n",
    "    print(\"Fail to Reject the Null Hypothesis: The mean points for water and non-water Pokemons are not significantly different.\")\n",
    "else:\n",
    "    print(\"Reject the Null Hypothesis: There is sufficient evidence to conclude that the mean fares are different for water and non-water Pokemons.\")"
   ]
  },
  {
   "cell_type": "markdown",
   "metadata": {},
   "source": [
    "# Challenge 2 - Matched Pairs Test\n",
    "\n",
    "In this challenge we will compare dependent samples of data describing our Pokemon. Our goal is to see whether there is a significant difference between each Pokemon's defense and attack scores. Our hypothesis is that the defense and attack scores are equal. In the cell below, import the `ttest_rel` function from `scipy.stats` and compare the two columns to see if there is a statistically significant difference between them."
   ]
  },
  {
   "cell_type": "code",
   "execution_count": 13,
   "metadata": {},
   "outputs": [
    {
     "name": "stdout",
     "output_type": "stream",
     "text": [
      "Null Hypothesis (H₀): There is no significant difference between Attack and Defense scores\n",
      "Alternate Hypothesis (H₁): There is a significant difference between Attack and Defense scores\n",
      "T-statistic: 4.3256\n",
      "P-value: 0.0000171403\n"
     ]
    }
   ],
   "source": [
    "# Your code here:\n",
    "\n",
    "# Hypotheses\n",
    "null_hypothesis = \"There is no significant difference between Attack and Defense scores\"  # H₀\n",
    "alt_hypothesis = \"There is a significant difference between Attack and Defense scores\"  # H₁\n",
    "\n",
    "print(f\"Null Hypothesis (H₀): {null_hypothesis}\")\n",
    "print(f\"Alternate Hypothesis (H₁): {alt_hypothesis}\")\n",
    "\n",
    "# Two-sample t-test for dependent samples\n",
    "t_stat, p_value = std.ttest_rel(pokemon[\"Attack\"], pokemon[\"Defense\"])\n",
    "\n",
    "print(f\"T-statistic: {t_stat:.4f}\")\n",
    "print(f\"P-value: {p_value:.10f}\")\n",
    "\n"
   ]
  },
  {
   "cell_type": "markdown",
   "metadata": {},
   "source": [
    "Describe the results of the test in the cell below."
   ]
  },
  {
   "cell_type": "code",
   "execution_count": 14,
   "metadata": {},
   "outputs": [
    {
     "name": "stdout",
     "output_type": "stream",
     "text": [
      "Reject the null hypothesis: There is a significant difference between Attack and Defense scores.\n"
     ]
    }
   ],
   "source": [
    "# Your conclusions here:\n",
    "if p_value > alpha:\n",
    "    print(\"Fail to reject the null hypothesis: No significant difference between Attack and Defense scores.\")\n",
    "else:\n",
    "    print(\"Reject the null hypothesis: There is a significant difference between Attack and Defense scores.\")"
   ]
  },
  {
   "cell_type": "markdown",
   "metadata": {},
   "source": [
    "We are also curious about whether therer is a significant difference between the mean of special defense and the mean of special attack. Perform the hypothesis test in the cell below. "
   ]
  },
  {
   "cell_type": "code",
   "execution_count": 15,
   "metadata": {},
   "outputs": [
    {
     "name": "stdout",
     "output_type": "stream",
     "text": [
      "Null Hypothesis (H₀): The mean Special Attack and Special Defense are equal\n",
      "Alternate Hypothesis (H₁):  The mean Special Attack and Special Defense are different\n",
      "T-statistic: 0.8540\n",
      "P-value: 0.3933685998\n"
     ]
    }
   ],
   "source": [
    "# Your code here:\n",
    "\n",
    "# Hypotheses\n",
    "null_hypothesis = \"The mean Special Attack and Special Defense are equal\"  # H₀\n",
    "alt_hypothesis = \" The mean Special Attack and Special Defense are different\"  # H₁\n",
    "\n",
    "print(f\"Null Hypothesis (H₀): {null_hypothesis}\")\n",
    "print(f\"Alternate Hypothesis (H₁): {alt_hypothesis}\")\n",
    "\n",
    "# Two-sample t-test for dependent samples\n",
    "t_stat, p_value = std.ttest_rel(pokemon[\"Sp. Atk\"], pokemon[\"Sp. Def\"])\n",
    "\n",
    "print(f\"T-statistic: {t_stat:.4f}\")\n",
    "print(f\"P-value: {p_value:.10f}\")"
   ]
  },
  {
   "cell_type": "markdown",
   "metadata": {},
   "source": [
    "Describe the results of the test in the cell below."
   ]
  },
  {
   "cell_type": "code",
   "execution_count": 16,
   "metadata": {},
   "outputs": [
    {
     "name": "stdout",
     "output_type": "stream",
     "text": [
      "Fail to reject the null hypothesis: No significant difference between Special Attack and Special Defense scores.\n"
     ]
    }
   ],
   "source": [
    "# Your conclusions here:\n",
    "\n",
    "if p_value > alpha:\n",
    "    print(\"Fail to reject the null hypothesis: No significant difference between Special Attack and Special Defense scores.\")\n",
    "else:\n",
    "    print(\"Reject the null hypothesis: There is a significant difference between Special Attack and Special Defense scores.\")"
   ]
  },
  {
   "cell_type": "markdown",
   "metadata": {},
   "source": [
    "As you may recall, a two sample matched pairs test can also be expressed as a one sample test of the difference between the two dependent columns.\n",
    "\n",
    "Import the `ttest_1samp` function and perform a one sample t-test of the difference between defense and attack. Test the hypothesis that the difference between the means is zero. Confirm that the results of the test are the same."
   ]
  },
  {
   "cell_type": "code",
   "execution_count": 17,
   "metadata": {},
   "outputs": [
    {
     "name": "stdout",
     "output_type": "stream",
     "text": [
      "Null Hypothesis (H₀): The mean difference between Attack and Defense is zero\n",
      "Alternate Hypothesis (H₁): The mean difference is not zero\n",
      "T-statistic: 4.3256\n",
      "P-value: 0.0000171403\n",
      "Reject the null hypothesis: There is a significant difference between Attack and Defense.\n"
     ]
    }
   ],
   "source": [
    "# Your code here:\n",
    "\n",
    "# Hypotheses\n",
    "null_hypothesis = \"The mean difference between Attack and Defense is zero\"  # H₀\n",
    "alt_hypothesis = \"The mean difference is not zero\"  # H₁\n",
    "\n",
    "print(f\"Null Hypothesis (H₀): {null_hypothesis}\")\n",
    "print(f\"Alternate Hypothesis (H₁): {alt_hypothesis}\")\n",
    "\n",
    "diff = pokemon[\"Attack\"] - pokemon[\"Defense\"]\n",
    "\n",
    "# one-sample t-test\n",
    "t_stat, p_value = std.ttest_1samp(diff, 0)\n",
    "\n",
    "print(f\"T-statistic: {t_stat:.4f}\")\n",
    "print(f\"P-value: {p_value:.10f}\")  \n",
    "\n",
    "if p_value < alpha:\n",
    "    print(\"Reject the null hypothesis: There is a significant difference between Attack and Defense.\")\n",
    "else:\n",
    "    print(\"Fail to reject the null hypothesis: No significant difference between Attack and Defense.\")\n",
    "    "
   ]
  },
  {
   "cell_type": "markdown",
   "metadata": {},
   "source": [
    "# Bonus Challenge - The Chi-Square Test\n",
    "\n",
    "The Chi-Square test is used to determine whether there is a statistically significant difference in frequencies. In other words, we are testing whether there is a relationship between categorical variables or rather when the variables are independent. This test is an alternative to Fisher's exact test and is used in scenarios where sample sizes are larger. However, with a large enough sample size, both tests produce similar results. Read more about the Chi Squared test [here](https://en.wikipedia.org/wiki/Chi-squared_test).\n",
    "\n",
    "In the cell below, create a contingency table using `pd.crosstab` comparing whether a Pokemon is legenadary or not and whether the Type 1 of a Pokemon is water or not."
   ]
  },
  {
   "cell_type": "code",
   "execution_count": 18,
   "metadata": {},
   "outputs": [
    {
     "data": {
      "text/html": [
       "<div>\n",
       "<style scoped>\n",
       "    .dataframe tbody tr th:only-of-type {\n",
       "        vertical-align: middle;\n",
       "    }\n",
       "\n",
       "    .dataframe tbody tr th {\n",
       "        vertical-align: top;\n",
       "    }\n",
       "\n",
       "    .dataframe thead th {\n",
       "        text-align: right;\n",
       "    }\n",
       "</style>\n",
       "<table border=\"1\" class=\"dataframe\">\n",
       "  <thead>\n",
       "    <tr style=\"text-align: right;\">\n",
       "      <th>Water Type</th>\n",
       "      <th>False</th>\n",
       "      <th>True</th>\n",
       "    </tr>\n",
       "    <tr>\n",
       "      <th>Legendary</th>\n",
       "      <th></th>\n",
       "      <th></th>\n",
       "    </tr>\n",
       "  </thead>\n",
       "  <tbody>\n",
       "    <tr>\n",
       "      <th>False</th>\n",
       "      <td>627</td>\n",
       "      <td>108</td>\n",
       "    </tr>\n",
       "    <tr>\n",
       "      <th>True</th>\n",
       "      <td>61</td>\n",
       "      <td>4</td>\n",
       "    </tr>\n",
       "  </tbody>\n",
       "</table>\n",
       "</div>"
      ],
      "text/plain": [
       "Water Type  False  True \n",
       "Legendary               \n",
       "False         627    108\n",
       "True           61      4"
      ]
     },
     "execution_count": 18,
     "metadata": {},
     "output_type": "execute_result"
    }
   ],
   "source": [
    "# Your code here:\n",
    "\n",
    "pokemon['Is_Water_Type'] = pokemon['Type 1'] == 'Water'\n",
    "\n",
    "# Create a contingency table comparing Legendary status and Water type\n",
    "contingency_table = pd.crosstab(pokemon['Legendary'], pokemon['Is_Water_Type'], \n",
    "                                rownames=['Legendary'], colnames=['Water Type'])\n",
    "\n",
    "contingency_table"
   ]
  },
  {
   "cell_type": "markdown",
   "metadata": {},
   "source": [
    "Perform a chi-squared test using the `chi2_contingency` function in `scipy.stats`. You can read the documentation of the function [here](https://docs.scipy.org/doc/scipy-0.15.1/reference/generated/scipy.stats.chi2_contingency.html)."
   ]
  },
  {
   "cell_type": "code",
   "execution_count": 19,
   "metadata": {},
   "outputs": [
    {
     "name": "stdout",
     "output_type": "stream",
     "text": [
      "Null Hypothesis (H₀): There is no association between whether a Pokémon is legendary or not and whether its Type 1 is water or not\n",
      "Alternate Hypothesis (H₁):  There is an association between whether a Pokémon is legendary or not and whether its Type 1 is water or not\n",
      "Chi-squared statistic: 2.9429200762850503\n",
      "p-value: 0.0862546724955095\n",
      "Degrees of freedom: 1\n",
      "Expected frequencies table:\n",
      "[[632.1 102.9]\n",
      " [ 55.9   9.1]]\n"
     ]
    }
   ],
   "source": [
    "# Your code here:\n",
    "\n",
    "# Hypotheses\n",
    "null_hypothesis = \"There is no association between whether a Pokémon is legendary or not and whether its Type 1 is water or not\"  # H₀\n",
    "alt_hypothesis = \" There is an association between whether a Pokémon is legendary or not and whether its Type 1 is water or not\"  # H₁\n",
    "\n",
    "print(f\"Null Hypothesis (H₀): {null_hypothesis}\")\n",
    "print(f\"Alternate Hypothesis (H₁): {alt_hypothesis}\")\n",
    "\n",
    "chi2, p, dof, expected = std.chi2_contingency(contingency_table)\n",
    "\n",
    "print(f\"Chi-squared statistic: {chi2}\")\n",
    "print(f\"p-value: {p}\")\n",
    "print(f\"Degrees of freedom: {dof}\")\n",
    "print(f\"Expected frequencies table:\\n{expected}\")"
   ]
  },
  {
   "cell_type": "markdown",
   "metadata": {},
   "source": [
    "Based on a 95% confidence, should we reject the null hypothesis?"
   ]
  },
  {
   "cell_type": "code",
   "execution_count": 20,
   "metadata": {},
   "outputs": [
    {
     "name": "stdout",
     "output_type": "stream",
     "text": [
      "We reject the null hypothesis: There is an association between whether a Pokémon is legendary or not and whether its Type 1 is water or not.\n"
     ]
    }
   ],
   "source": [
    "# Your answer here:\n",
    "\n",
    "if p_value > alpha:\n",
    "    print(f\"Fail to reject the null hypothesis: There is no association between whether a Pokémon is legendary or not and whether its Type 1 is water or not.\")\n",
    "else:\n",
    "    print(f\"We reject the null hypothesis: There is an association between whether a Pokémon is legendary or not and whether its Type 1 is water or not.\")\n"
   ]
  }
 ],
 "metadata": {
  "kernelspec": {
   "display_name": "Python 3",
   "language": "python",
   "name": "python3"
  },
  "language_info": {
   "codemirror_mode": {
    "name": "ipython",
    "version": 3
   },
   "file_extension": ".py",
   "mimetype": "text/x-python",
   "name": "python",
   "nbconvert_exporter": "python",
   "pygments_lexer": "ipython3",
   "version": "3.13.2"
  }
 },
 "nbformat": 4,
 "nbformat_minor": 2
}
